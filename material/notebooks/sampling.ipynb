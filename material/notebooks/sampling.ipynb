{
 "cells": [
  {
   "cell_type": "markdown",
   "metadata": {},
   "source": [
    "# Use PercentageSelector\n",
    "\n",
    "In this Notebook we will import several samplers, such as the `PercentageSelector` class and use it to create a training set. This selector need to be given a percentage. It will then copy the coresponding percentage of each class from the `out_path` to the `in_path`. In this example we will copy 5% of the images from each class."
   ]
  },
  {
   "cell_type": "code",
   "execution_count": null,
   "metadata": {
    "collapsed": true
   },
   "outputs": [],
   "source": [
    "# First we import the PercentageSelector class from the sampler module.\n",
    "\n",
    "import sys\n",
    "sys.path.append(\"..\")\n",
    "from sampler import PercentageSelector"
   ]
  },
  {
   "cell_type": "code",
   "execution_count": null,
   "metadata": {
    "collapsed": true
   },
   "outputs": [],
   "source": [
    "# Here we intantiate the ps object from the PercentageSelector class and for each image class, we copy 5% of its images.\n",
    "\n",
    "in_path = \"../data/train/\"\n",
    "out_path = \"../data/sample/train\"\n",
    "\n",
    "ps = PercentageSelector()\n",
    "ps.sample(0.05, in_path, out_path)"
   ]
  }
 ],
 "metadata": {
  "kernelspec": {
   "display_name": "Python 3",
   "language": "python",
   "name": "python3"
  },
  "language_info": {
   "codemirror_mode": {
    "name": "ipython",
    "version": 3
   },
   "file_extension": ".py",
   "mimetype": "text/x-python",
   "name": "python",
   "nbconvert_exporter": "python",
   "pygments_lexer": "ipython3",
   "version": "3.6.3"
  }
 },
 "nbformat": 4,
 "nbformat_minor": 2
}
