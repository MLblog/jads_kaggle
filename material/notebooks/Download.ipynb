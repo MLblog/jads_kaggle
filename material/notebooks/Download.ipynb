{
 "cells": [
  {
   "cell_type": "markdown",
   "metadata": {},
   "source": [
    "# Downloading images\n",
    "\n",
    "In this notebook I will show how to use the `download` module found at `../data/download.py`\n",
    "We will use it to download labeled and unlabeled images (train and test sets respectively).\n",
    "\n",
    "The script can scale well to the huge amount of images we deal with it because:\n",
    "\n",
    "1. It can be paused and restarted, in which case it skips the already existing images\n",
    "2. It uses multiprocessing to speed-up the process\n",
    "3. It reports the progress using a progress bar.\n",
    "\n",
    "**Let's see it in action!**"
   ]
  },
  {
   "cell_type": "code",
   "execution_count": null,
   "metadata": {},
   "outputs": [],
   "source": [
    "import sys\n",
    "sys.path.append(\"../data\") # Append source directory to our Python path\n",
    "\n",
    "from download import dl_images"
   ]
  },
  {
   "cell_type": "code",
   "execution_count": null,
   "metadata": {},
   "outputs": [],
   "source": [
    "# Let's download some labeled images.\n",
    "train_file = \"../data/train.json\"\n",
    "train_dir = \"../data/train/\"\n",
    "\n",
    "dl_images(train_file, train_dir, processes=20)\n",
    "\n",
    "# Let's download some unlabeled images too.\n",
    "test_file = \"../data/test.json\"\n",
    "test_dir = \"../data/test/\"\n",
    "\n",
    "dl_images(test_file, test_dir, processes=20)"
   ]
  }
 ],
 "metadata": {
  "kernelspec": {
   "display_name": "material",
   "language": "python",
   "name": "material"
  },
  "language_info": {
   "codemirror_mode": {
    "name": "ipython",
    "version": 3
   },
   "file_extension": ".py",
   "mimetype": "text/x-python",
   "name": "python",
   "nbconvert_exporter": "python",
   "pygments_lexer": "ipython3",
   "version": "3.5.2"
  }
 },
 "nbformat": 4,
 "nbformat_minor": 2
}
