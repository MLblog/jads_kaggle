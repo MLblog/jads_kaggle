{
 "cells": [
  {
   "cell_type": "code",
   "execution_count": null,
   "metadata": {},
   "outputs": [],
   "source": [
    "import sys\n",
    "from sklearn import preprocessing\n",
    "import pandas as pd\n",
    "sys.path.append(\"..\")\n",
    "\n",
    "from preprocessing import get_sparse_matrix\n",
    "from feature_adder import FeatureAdder\n",
    "from linear_predictor import LogisticPredictor, SVMPredictor, XGBPredictor\n",
    "from tuning import tune, bayesian_optimization\n",
    "from ensembler import *"
   ]
  },
  {
   "cell_type": "markdown",
   "metadata": {},
   "source": [
    "# Get data sets and DEfine Parameters"
   ]
  },
  {
   "cell_type": "code",
   "execution_count": null,
   "metadata": {},
   "outputs": [],
   "source": [
    "train, test = pd.read_csv(\"../data/train.csv\"), pd.read_csv(\"../data/test.csv\")\n",
    "TAGS = ['toxic', 'severe_toxic', 'obscene', 'threat', 'insult', 'identity_hate']\n",
    "write_to = '../data/tuning.txt'\n",
    "train_ys = {tag: train[tag].values for tag in TAGS}\n",
    "test_id = test['id']\n",
    "train_id = train['id']\n",
    "train_x_sparce, test_x_sparce = get_sparse_matrix(load=True, data_dir='../data')\n",
    "\n",
    "train_x_ft, test_x_ft = FeatureAdder(data_dir='../data').get_features(load=True)\n",
    "train_x_ft = train_x_ft[list(test_x_ft)]\n",
    "del train_x_ft['id'], test_x_ft['id'] "
   ]
  },
  {
   "cell_type": "markdown",
   "metadata": {},
   "source": [
    "# Linear Predictor"
   ]
  },
  {
   "cell_type": "code",
   "execution_count": null,
   "metadata": {},
   "outputs": [],
   "source": [
    "params = [{\"name\": \"C\", \"type\":\"continuous\", \"domain\": (0.1, 6.0)},\n",
    "      {\"name\": \"dual\", \"type\":\"discrete\", \"domain\": [False, True]}]\n",
    "\n",
    "best_params_s, best_score = bayesian_optimization(LogisticPredictor, train_x_sparce, train_ys,  \n",
    "                                                  params, model_type='GP', acquisition_type='EI', acquisition_weight=2, \n",
    "                                                  max_iter=10, max_time=None, silent=True, persist=False, write_to=write_to)\n",
    "\n",
    "linear_predictor_ = LogisticPredictor(**best_params_s)\n",
    "create_ensemble_output(linear_predictor_, train_x_sparce, train_ys, test_x_sparce, train_id, test_id,\n",
    "                       data_source_nature='sparce_matrix', write_to='../data/output')"
   ]
  },
  {
   "cell_type": "markdown",
   "metadata": {},
   "source": [
    "# SVM predictor"
   ]
  },
  {
   "cell_type": "code",
   "execution_count": null,
   "metadata": {},
   "outputs": [],
   "source": [
    "scaler_ft = preprocessing.StandardScaler().fit(train_x_ft)\n",
    "params = [{\"name\": \"C\", \"type\":\"continuous\", \"domain\": (0.1, 6.0)},\n",
    "      {\"name\": \"dual\", \"type\":\"discrete\", \"domain\": [False, True]}]\n",
    "\n",
    "best_params_s, best_score = bayesian_optimization(SVMPredictor, train_x_sparce, train_ys, \n",
    "                                                  params, model_type='GP', acquisition_type='EI', acquisition_weight=2, \n",
    "                                                  max_iter=10, max_time=None, silent=True, persist=False, write_to=write_to)\n",
    "\n",
    "best_params_f, best_score = bayesian_optimization(SVMPredictor, scaler_ft.transform(train_x_ft), train_ys, \n",
    "                                                  params, model_type='GP', acquisition_type='EI', acquisition_weight=2, \n",
    "                                                  max_iter=10, max_time=None, silent=True, persist=False, write_to=write_to)\n",
    "\n",
    "SVC_predictor_ = SVMPredictor(**best_params_s)\n",
    "create_ensemble_output(SVC_predictor_, train_x_sparce, train_ys, test_x_sparce, train_id, test_id, \n",
    "                  write_to='../data/output', data_source_nature='sparce_matrix')\n",
    "\n",
    "SVC_predictor_ = SVMPredictor(**best_params_f)\n",
    "create_ensemble_output(SVC_predictor_, scaler_ft.transform(train_x_ft), train_ys, scaler_ft.transform(test_x_ft), train_id, test_id, \n",
    "                 write_to='../data/output', data_source_nature='features')"
   ]
  },
  {
   "cell_type": "markdown",
   "metadata": {},
   "source": [
    "# XGBoost predictor"
   ]
  },
  {
   "cell_type": "code",
   "execution_count": null,
   "metadata": {},
   "outputs": [],
   "source": [
    "params = [\n",
    "        {'name': 'learning_rate', 'type': 'continuous', 'domain': (0, 1)},\n",
    "        {'name': 'gamma', 'type': 'continuous', 'domain': (0, 5)},\n",
    "        {'name': 'max_depth', 'type': 'discrete', 'domain': (1, 50)}\n",
    "     ]\n",
    "\n",
    "best_params_s, best_score = bayesian_optimization(XGBPredictor, train_x_sparce, train_ys, params, model_type='GP', \n",
    "                                                  acquisition_type='EI', acquisition_weight=2, max_iter=10, max_time=None, \n",
    "                                                  silent=True, persist=False, write_to=write_to)\n",
    "\n",
    "best_params_f, best_score = bayesian_optimization(XGBPredictor, train_x_ft, train_ys, params, model_type='GP', \n",
    "                                                  acquisition_type='EI', acquisition_weight=2, max_iter=10, max_time=None, \n",
    "                                                  silent=True, persist=False, write_to=write_to)\n",
    "\n",
    "XGBPredictor_ = XGBPredictor(**best_params_s)\n",
    "create_ensemble_output(XGBPredictor_, train_x_sparce, train_ys, test_x_sparce, train_id, test_id, \n",
    "                  write_to='../data/output', data_source_nature='sparce_matrix')\n",
    "\n",
    "XGBPredictor_ = XGBPredictor(**best_params_f)\n",
    "create_ensemble_output(XGBPredictor_, train_x_ft, train_ys, test_x_ft, train_id, test_id, write_to='../data/output', \n",
    "                  data_source_nature='features')"
   ]
  },
  {
   "cell_type": "markdown",
   "metadata": {},
   "source": [
    "# Call ensemblers"
   ]
  },
  {
   "cell_type": "code",
   "execution_count": null,
   "metadata": {},
   "outputs": [],
   "source": [
    "averages_ensemble = Ensemble(train_ys, test_id, train_id, TAGS, data_dir='../data/output').mean_ensembler()\n",
    "\n",
    "params = [\n",
    "        {'name': 'learning_rate', 'type': 'continuous', 'domain': (0, 1)},\n",
    "        {'name': 'gamma', 'type': 'continuous', 'domain': (0, 5)},\n",
    "        {'name': 'max_depth', 'type': 'discrete', 'domain': (1, 50)}\n",
    "]\n",
    "\n",
    "Ensemble(train_ys, test_id, train_id, TAGS, data_dir='../data/output').meta_learner(params, XGBPredictor)"
   ]
  },
  {
   "cell_type": "code",
   "execution_count": null,
   "metadata": {},
   "outputs": [],
   "source": []
  }
 ],
 "metadata": {
  "kernelspec": {
   "display_name": "Python 3",
   "language": "python",
   "name": "python3"
  },
  "language_info": {
   "codemirror_mode": {
    "name": "ipython",
    "version": 3
   },
   "file_extension": ".py",
   "mimetype": "text/x-python",
   "name": "python",
   "nbconvert_exporter": "python",
   "pygments_lexer": "ipython3",
   "version": "3.6.4"
  }
 },
 "nbformat": 4,
 "nbformat_minor": 2
}
