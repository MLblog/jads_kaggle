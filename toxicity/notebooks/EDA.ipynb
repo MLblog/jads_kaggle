{
 "cells": [
  {
   "cell_type": "markdown",
   "metadata": {
    "deletable": true,
    "editable": true
   },
   "source": [
    "## EDA "
   ]
  },
  {
   "cell_type": "code",
   "execution_count": null,
   "metadata": {
    "collapsed": false,
    "deletable": true,
    "editable": true
   },
   "outputs": [],
   "source": [
    "#system settings\n",
    "import sys\n",
    "sys.path.append(\"../..\")\n",
    "\n",
    "#basics\n",
    "import pandas as pd\n",
    "import numpy as np\n",
    "\n",
    "#viz\n",
    "import matplotlib.pyplot as plt\n",
    "import seaborn as sns\n",
    "\n",
    "#misc\n",
    "from toxicity.utils import *\n",
    "\n",
    "#feature engineering \n",
    "from common.nlp.feature_adder import *\n",
    "\n",
    "#settings\n",
    "color = sns.color_palette()"
   ]
  },
  {
   "cell_type": "code",
   "execution_count": null,
   "metadata": {
    "collapsed": true,
    "deletable": true,
    "editable": true
   },
   "outputs": [],
   "source": [
    "train = pd.read_csv(\"../data/train.csv\")\n",
    "test = pd.read_csv(\"../data/test.csv\")"
   ]
  },
  {
   "cell_type": "code",
   "execution_count": null,
   "metadata": {
    "collapsed": true,
    "deletable": true,
    "editable": true
   },
   "outputs": [],
   "source": [
    "print ('The size of the train set is {} and the size of the test set is {}'.format(train.shape, test.shape))"
   ]
  },
  {
   "cell_type": "markdown",
   "metadata": {
    "deletable": true,
    "editable": true
   },
   "source": [
    "### Note: \n",
    "In the next lines, we will create an new class called **'clean'**. *If* a comment is not classified as 'toxic', 'severe_toxic', 'obscene', 'threat', 'insult', 'identity_hate', or any combination of them, *then* it is classified as 'clean'."
   ]
  },
  {
   "cell_type": "code",
   "execution_count": null,
   "metadata": {
    "collapsed": true,
    "deletable": true,
    "editable": true
   },
   "outputs": [],
   "source": [
    "classes = TAGS #The 6 given classes \n",
    "x = train.loc[:, classes].sum()\n",
    "#marking comments without any tags as \"clean\"\n",
    "if 'clean' not in train.columns:\n",
    "    rowsums = train.iloc[:,2:].sum(axis=1)\n",
    "    train['clean'] = (rowsums==0)\n",
    "    #count number of clean entries\n",
    "    clean = train['clean'].sum()\n",
    "else:\n",
    "    pass\n",
    "print(\"Total comments = \", len(train))\n",
    "print(\"Total clean comments = \", clean)\n",
    "print(\"Total tags excluding the 'clean' comments =\", x.sum())"
   ]
  },
  {
   "cell_type": "code",
   "execution_count": null,
   "metadata": {
    "collapsed": true,
    "deletable": true,
    "editable": true
   },
   "outputs": [],
   "source": [
    "print(\"Check for missing values in Train dataset\")\n",
    "null_check = train.isnull().sum()\n",
    "print(null_check)\n",
    "print(\"Check for missing values in Test dataset\")\n",
    "null_check = test.isnull().sum()\n",
    "print(null_check)\n",
    "print(\"filling NA with \\\"unknown\\\"\")\n",
    "train[\"comment_text\"].fillna(\"unknown\", inplace=True)\n",
    "test[\"comment_text\"].fillna(\"unknown\", inplace=True)"
   ]
  },
  {
   "cell_type": "markdown",
   "metadata": {
    "deletable": true,
    "editable": true
   },
   "source": [
    "### Plot the number of occurences for the different classes of the data and the class 'clean' that we have created"
   ]
  },
  {
   "cell_type": "code",
   "execution_count": null,
   "metadata": {
    "collapsed": true,
    "deletable": true,
    "editable": true
   },
   "outputs": [],
   "source": [
    "classes = TAGS + ['clean'] #The 6 given classes and the 'clean' class\n",
    "x=train.loc[:,classes].sum()\n",
    "#plot\n",
    "plt.figure(figsize=(8,4))\n",
    "ax= sns.barplot(x.index, x.values, alpha=0.8)\n",
    "plt.title(\"# per class\")\n",
    "plt.ylabel('# of Occurrences', fontsize=12)\n",
    "plt.xlabel('Type ', fontsize=12)\n",
    "#adding the text labels\n",
    "rects = ax.patches\n",
    "labels = x.values\n",
    "for rect, label in zip(rects, labels):\n",
    "    height = rect.get_height()\n",
    "    ax.text(rect.get_x() + rect.get_width()/2, height + 5, label, ha='center', va='bottom')\n",
    "plt.show()"
   ]
  },
  {
   "cell_type": "markdown",
   "metadata": {
    "deletable": true,
    "editable": true
   },
   "source": [
    "### Heatmap of the 6 given classes and the 'clean' class"
   ]
  },
  {
   "cell_type": "code",
   "execution_count": null,
   "metadata": {
    "collapsed": true,
    "deletable": true,
    "editable": true
   },
   "outputs": [],
   "source": [
    "classes = TAGS + ['clean'] #The 6 given classes and the 'clean' class\n",
    "temp_df = train.loc[:, classes]\n",
    "corr = temp_df.corr() \n",
    "plt.figure(figsize=(10,8))\n",
    "sns.heatmap(abs(corr),\n",
    "            xticklabels=corr.columns.values,\n",
    "            yticklabels=corr.columns.values, \n",
    "            annot=True\n",
    "           )\n",
    "plt.show()"
   ]
  },
  {
   "cell_type": "markdown",
   "metadata": {
    "deletable": true,
    "editable": true
   },
   "source": [
    "#### High correllation between: \n",
    "- Obsence and toxic\n",
    "- Obsence and insult\n",
    "- Toxic and insult\n",
    "\n",
    "        "
   ]
  },
  {
   "cell_type": "markdown",
   "metadata": {
    "deletable": true,
    "editable": true
   },
   "source": [
    "### Count of the different combinations"
   ]
  },
  {
   "cell_type": "code",
   "execution_count": null,
   "metadata": {
    "collapsed": true,
    "deletable": true,
    "editable": true
   },
   "outputs": [],
   "source": [
    "columns = TAGS\n",
    "counts_of_vector = train.groupby(['severe_toxic', 'obscene', 'threat', 'insult', 'identity_hate'])['toxic'].value_counts()\n",
    "counts_of_vector.to_dict()\n",
    "counts_of_vector"
   ]
  },
  {
   "cell_type": "markdown",
   "metadata": {
    "deletable": true,
    "editable": true
   },
   "source": [
    "### Correlation matrix with the new features"
   ]
  },
  {
   "cell_type": "code",
   "execution_count": null,
   "metadata": {
    "collapsed": true,
    "deletable": true,
    "editable": true
   },
   "outputs": [],
   "source": [
    "df = FeatureAdder(data_dir=\"../data\", upper_case=True, word_count=True, unique_words_count=True,\n",
    "                      letter_count=True, punctuation_count=True, little_case=True,\n",
    "                      stopwords=True, question_or_exclamation=True, number_bad_words=True, sentiment_analysis=True)\n",
    "\n",
    "#df_train, df_test = df.get_features(train, test, load=False, save=True)\n",
    "df_train, df_test = df.get_features(train, test, load=True, save=False)"
   ]
  },
  {
   "cell_type": "code",
   "execution_count": null,
   "metadata": {
    "collapsed": true,
    "deletable": true,
    "editable": true
   },
   "outputs": [],
   "source": [
    "x_variables = TAGS + ['clean'] #Choose the variables to correlate and plot on the x-axis\n",
    "#Choose the variables to correalte and plot on the y-axis\n",
    "y_variables = ['count_words_upper', 'count_word',\n",
    "       'count_unique_word', 'count_letters', 'count_punctuations',\n",
    "       'count_words_title', 'count_stopwords', 'question_mark',\n",
    "       'exclamation_mark', 'number_bad_words'\n",
    "              ]\n",
    "corr = df_train.corr()\n",
    "corr = corr.loc[y_variables, x_variables]\n",
    "plt.figure(figsize=(20,10))\n",
    "sns.heatmap(abs(corr),\n",
    "            xticklabels=x_variables,\n",
    "            yticklabels=y_variables, \n",
    "            annot=True\n",
    "           )\n",
    "plt.show()"
   ]
  },
  {
   "cell_type": "code",
   "execution_count": null,
   "metadata": {
    "collapsed": true,
    "deletable": true,
    "editable": true
   },
   "outputs": [],
   "source": []
  }
 ],
 "metadata": {
  "kernelspec": {
   "display_name": "Python 2",
   "language": "python",
   "name": "python2"
  },
  "language_info": {
   "codemirror_mode": {
    "name": "ipython",
    "version": 2
   },
   "file_extension": ".py",
   "mimetype": "text/x-python",
   "name": "python",
   "nbconvert_exporter": "python",
   "pygments_lexer": "ipython2",
   "version": "2.7.12"
  }
 },
 "nbformat": 4,
 "nbformat_minor": 2
}
