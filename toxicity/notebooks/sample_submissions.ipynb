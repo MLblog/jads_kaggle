{
 "cells": [
  {
   "cell_type": "markdown",
   "metadata": {},
   "source": [
    "# Using our developed libraries\n",
    "\n",
    "In order to quickly use or inspect the developed libraries, as well as interactively visualize their results we can use\n",
    "those notebooks.\n",
    "\n",
    "**NOTE**: Please remember to clear all output before commiting any .ipynb file by doing: `Cell -> All Outputs -> Clear` "
   ]
  },
  {
   "cell_type": "code",
   "execution_count": 1,
   "metadata": {
    "collapsed": true
   },
   "outputs": [],
   "source": [
    "import pandas as pd\n",
    "import numpy as np\n",
    "\n",
    "import sys\n",
    "sys.path.append(\"..\") # Append source directory to our Python path\n",
    "\n",
    "from predictor import Predictor\n",
    "from linear_predictor import LogisticPredictor\n",
    "from preprocessing import *\n",
    "from utils import *\n",
    "\n",
    "train = pd.read_csv(\"../data/train.csv\")\n",
    "test = pd.read_csv(\"../data/test.csv\")"
   ]
  },
  {
   "cell_type": "code",
   "execution_count": 3,
   "metadata": {
    "collapsed": true
   },
   "outputs": [],
   "source": [
    "# Extract the true labels needed for training\n",
    "train_ys = {tag: train[tag].values for tag in TAGS}\n",
    "\n",
    "# Extract the test set ids needed for submitting\n",
    "ids = test['id']"
   ]
  },
  {
   "cell_type": "markdown",
   "metadata": {},
   "source": [
    "## Lets test our preprocessing functions.\n",
    "\n",
    "The `tf_idf` transformation produces a sparse matrix representation."
   ]
  },
  {
   "cell_type": "code",
   "execution_count": 2,
   "metadata": {},
   "outputs": [
    {
     "name": "stdout",
     "output_type": "stream",
     "text": [
      "The tf_idf algorithm created 86559 features per sample\n"
     ]
    }
   ],
   "source": [
    "#train_x, test_x = get_sparse_matrix(train, test, save=True, load=False, data_dir=\"../data\")\n",
    "#to load the data set use\n",
    "train_x, test_x = get_sparse_matrix(load=True, data_dir=\"../data\")\n",
    "print(\"The tf_idf algorithm created {} features per sample\".format(train_x.shape[1]))"
   ]
  },
  {
   "cell_type": "markdown",
   "metadata": {},
   "source": [
    "## Using the processed dataset to train a linear predictor\n",
    "\n",
    "Lets check whether our predictor implementations can fit the processed datasets."
   ]
  },
  {
   "cell_type": "code",
   "execution_count": 5,
   "metadata": {},
   "outputs": [
    {
     "name": "stdout",
     "output_type": "stream",
     "text": [
      "Using CV evaluation method across all tags...\n",
      "Evaluating tag toxic\n"
     ]
    },
    {
     "name": "stderr",
     "output_type": "stream",
     "text": [
      "C:\\Users\\s157084\\AppData\\Local\\Continuum\\anaconda3\\envs\\kaggle_env\\lib\\site-packages\\sklearn\\linear_model\\logistic.py:1228: UserWarning: 'n_jobs' > 1 does not have any effect when 'solver' is set to 'liblinear'. Got 'n_jobs' = 7.\n",
      "  \" = {}.\".format(self.n_jobs))\n",
      "C:\\Users\\s157084\\AppData\\Local\\Continuum\\anaconda3\\envs\\kaggle_env\\lib\\site-packages\\sklearn\\linear_model\\logistic.py:1228: UserWarning: 'n_jobs' > 1 does not have any effect when 'solver' is set to 'liblinear'. Got 'n_jobs' = 7.\n",
      "  \" = {}.\".format(self.n_jobs))\n",
      "C:\\Users\\s157084\\AppData\\Local\\Continuum\\anaconda3\\envs\\kaggle_env\\lib\\site-packages\\sklearn\\linear_model\\logistic.py:1228: UserWarning: 'n_jobs' > 1 does not have any effect when 'solver' is set to 'liblinear'. Got 'n_jobs' = 7.\n",
      "  \" = {}.\".format(self.n_jobs))\n"
     ]
    },
    {
     "name": "stdout",
     "output_type": "stream",
     "text": [
      "Evaluating tag severe_toxic\n"
     ]
    },
    {
     "name": "stderr",
     "output_type": "stream",
     "text": [
      "C:\\Users\\s157084\\AppData\\Local\\Continuum\\anaconda3\\envs\\kaggle_env\\lib\\site-packages\\sklearn\\linear_model\\logistic.py:1228: UserWarning: 'n_jobs' > 1 does not have any effect when 'solver' is set to 'liblinear'. Got 'n_jobs' = 7.\n",
      "  \" = {}.\".format(self.n_jobs))\n",
      "C:\\Users\\s157084\\AppData\\Local\\Continuum\\anaconda3\\envs\\kaggle_env\\lib\\site-packages\\sklearn\\linear_model\\logistic.py:1228: UserWarning: 'n_jobs' > 1 does not have any effect when 'solver' is set to 'liblinear'. Got 'n_jobs' = 7.\n",
      "  \" = {}.\".format(self.n_jobs))\n",
      "C:\\Users\\s157084\\AppData\\Local\\Continuum\\anaconda3\\envs\\kaggle_env\\lib\\site-packages\\sklearn\\linear_model\\logistic.py:1228: UserWarning: 'n_jobs' > 1 does not have any effect when 'solver' is set to 'liblinear'. Got 'n_jobs' = 7.\n",
      "  \" = {}.\".format(self.n_jobs))\n"
     ]
    },
    {
     "name": "stdout",
     "output_type": "stream",
     "text": [
      "Evaluating tag obscene\n"
     ]
    },
    {
     "name": "stderr",
     "output_type": "stream",
     "text": [
      "C:\\Users\\s157084\\AppData\\Local\\Continuum\\anaconda3\\envs\\kaggle_env\\lib\\site-packages\\sklearn\\linear_model\\logistic.py:1228: UserWarning: 'n_jobs' > 1 does not have any effect when 'solver' is set to 'liblinear'. Got 'n_jobs' = 7.\n",
      "  \" = {}.\".format(self.n_jobs))\n",
      "C:\\Users\\s157084\\AppData\\Local\\Continuum\\anaconda3\\envs\\kaggle_env\\lib\\site-packages\\sklearn\\linear_model\\logistic.py:1228: UserWarning: 'n_jobs' > 1 does not have any effect when 'solver' is set to 'liblinear'. Got 'n_jobs' = 7.\n",
      "  \" = {}.\".format(self.n_jobs))\n",
      "C:\\Users\\s157084\\AppData\\Local\\Continuum\\anaconda3\\envs\\kaggle_env\\lib\\site-packages\\sklearn\\linear_model\\logistic.py:1228: UserWarning: 'n_jobs' > 1 does not have any effect when 'solver' is set to 'liblinear'. Got 'n_jobs' = 7.\n",
      "  \" = {}.\".format(self.n_jobs))\n"
     ]
    },
    {
     "name": "stdout",
     "output_type": "stream",
     "text": [
      "Evaluating tag threat\n"
     ]
    },
    {
     "name": "stderr",
     "output_type": "stream",
     "text": [
      "C:\\Users\\s157084\\AppData\\Local\\Continuum\\anaconda3\\envs\\kaggle_env\\lib\\site-packages\\sklearn\\linear_model\\logistic.py:1228: UserWarning: 'n_jobs' > 1 does not have any effect when 'solver' is set to 'liblinear'. Got 'n_jobs' = 7.\n",
      "  \" = {}.\".format(self.n_jobs))\n",
      "C:\\Users\\s157084\\AppData\\Local\\Continuum\\anaconda3\\envs\\kaggle_env\\lib\\site-packages\\sklearn\\linear_model\\logistic.py:1228: UserWarning: 'n_jobs' > 1 does not have any effect when 'solver' is set to 'liblinear'. Got 'n_jobs' = 7.\n",
      "  \" = {}.\".format(self.n_jobs))\n",
      "C:\\Users\\s157084\\AppData\\Local\\Continuum\\anaconda3\\envs\\kaggle_env\\lib\\site-packages\\sklearn\\linear_model\\logistic.py:1228: UserWarning: 'n_jobs' > 1 does not have any effect when 'solver' is set to 'liblinear'. Got 'n_jobs' = 7.\n",
      "  \" = {}.\".format(self.n_jobs))\n"
     ]
    },
    {
     "name": "stdout",
     "output_type": "stream",
     "text": [
      "Evaluating tag insult\n"
     ]
    },
    {
     "name": "stderr",
     "output_type": "stream",
     "text": [
      "C:\\Users\\s157084\\AppData\\Local\\Continuum\\anaconda3\\envs\\kaggle_env\\lib\\site-packages\\sklearn\\linear_model\\logistic.py:1228: UserWarning: 'n_jobs' > 1 does not have any effect when 'solver' is set to 'liblinear'. Got 'n_jobs' = 7.\n",
      "  \" = {}.\".format(self.n_jobs))\n",
      "C:\\Users\\s157084\\AppData\\Local\\Continuum\\anaconda3\\envs\\kaggle_env\\lib\\site-packages\\sklearn\\linear_model\\logistic.py:1228: UserWarning: 'n_jobs' > 1 does not have any effect when 'solver' is set to 'liblinear'. Got 'n_jobs' = 7.\n",
      "  \" = {}.\".format(self.n_jobs))\n",
      "C:\\Users\\s157084\\AppData\\Local\\Continuum\\anaconda3\\envs\\kaggle_env\\lib\\site-packages\\sklearn\\linear_model\\logistic.py:1228: UserWarning: 'n_jobs' > 1 does not have any effect when 'solver' is set to 'liblinear'. Got 'n_jobs' = 7.\n",
      "  \" = {}.\".format(self.n_jobs))\n"
     ]
    },
    {
     "name": "stdout",
     "output_type": "stream",
     "text": [
      "Evaluating tag identity_hate\n"
     ]
    },
    {
     "name": "stderr",
     "output_type": "stream",
     "text": [
      "C:\\Users\\s157084\\AppData\\Local\\Continuum\\anaconda3\\envs\\kaggle_env\\lib\\site-packages\\sklearn\\linear_model\\logistic.py:1228: UserWarning: 'n_jobs' > 1 does not have any effect when 'solver' is set to 'liblinear'. Got 'n_jobs' = 7.\n",
      "  \" = {}.\".format(self.n_jobs))\n",
      "C:\\Users\\s157084\\AppData\\Local\\Continuum\\anaconda3\\envs\\kaggle_env\\lib\\site-packages\\sklearn\\linear_model\\logistic.py:1228: UserWarning: 'n_jobs' > 1 does not have any effect when 'solver' is set to 'liblinear'. Got 'n_jobs' = 7.\n",
      "  \" = {}.\".format(self.n_jobs))\n",
      "C:\\Users\\s157084\\AppData\\Local\\Continuum\\anaconda3\\envs\\kaggle_env\\lib\\site-packages\\sklearn\\linear_model\\logistic.py:1228: UserWarning: 'n_jobs' > 1 does not have any effect when 'solver' is set to 'liblinear'. Got 'n_jobs' = 7.\n",
      "  \" = {}.\".format(self.n_jobs))\n"
     ]
    },
    {
     "name": "stdout",
     "output_type": "stream",
     "text": [
      "evaluate function took 167.9 seconds to complete\n",
      "\n",
      "Using split evaluation method across all tags...\n",
      "evaluate function took 59.3 seconds to complete\n",
      "\n"
     ]
    }
   ],
   "source": [
    "lr_params = {\"C\": 4, \"dual\": True}\n",
    "predictor = LogisticPredictor(**lr_params)\n",
    "\n",
    "# We are currently supporting 3 evaluation methods, stratified CV, random CV and split. Lets check them.\n",
    "#stratified_cv_loss = predictor.evaluate(train_x, train_ys, method='stratified_CV')\n",
    "cv_loss = predictor.evaluate(train_x, train_ys, method='CV')\n",
    "split_loss = predictor.evaluate(train_x, train_ys, method='split')\n",
    "\n",
    "#print(\"CV Stratified CV log loss: {}\\nCV log loss: {}\\nSplit CV log loss: {}\".format(stratified_cv_loss, cv_loss, split_loss))"
   ]
  },
  {
   "cell_type": "code",
   "execution_count": 6,
   "metadata": {},
   "outputs": [
    {
     "data": {
      "text/plain": [
       "0.9788749045566479"
      ]
     },
     "execution_count": 6,
     "metadata": {},
     "output_type": "execute_result"
    }
   ],
   "source": [
    "cv_loss"
   ]
  },
  {
   "cell_type": "code",
   "execution_count": 7,
   "metadata": {},
   "outputs": [
    {
     "name": "stdout",
     "output_type": "stream",
     "text": [
      "Logistic Regression Predictor Fitting on toxic tag\n"
     ]
    },
    {
     "name": "stderr",
     "output_type": "stream",
     "text": [
      "C:\\Users\\s157084\\AppData\\Local\\Continuum\\anaconda3\\envs\\kaggle_env\\lib\\site-packages\\sklearn\\linear_model\\logistic.py:1228: UserWarning: 'n_jobs' > 1 does not have any effect when 'solver' is set to 'liblinear'. Got 'n_jobs' = 7.\n",
      "  \" = {}.\".format(self.n_jobs))\n"
     ]
    },
    {
     "name": "stdout",
     "output_type": "stream",
     "text": [
      "Logistic Regression Predictor Fitting on severe_toxic tag\n",
      "Logistic Regression Predictor Fitting on obscene tag\n",
      "Logistic Regression Predictor Fitting on threat tag\n",
      "Logistic Regression Predictor Fitting on insult tag\n",
      "Logistic Regression Predictor Fitting on identity_hate tag\n",
      "Submissions created at location ../submissions/first_attempt.csv\n"
     ]
    }
   ],
   "source": [
    "create_submission(predictor, train_x, train_ys, test_x, ids, '../submissions/first_attempt.csv')"
   ]
  },
  {
   "cell_type": "code",
   "execution_count": null,
   "metadata": {
    "collapsed": true
   },
   "outputs": [],
   "source": []
  }
 ],
 "metadata": {
  "kernelspec": {
   "display_name": "Python 3",
   "language": "python",
   "name": "python3"
  },
  "language_info": {
   "codemirror_mode": {
    "name": "ipython",
    "version": 3
   },
   "file_extension": ".py",
   "mimetype": "text/x-python",
   "name": "python",
   "nbconvert_exporter": "python",
   "pygments_lexer": "ipython3",
   "version": "3.6.3"
  }
 },
 "nbformat": 4,
 "nbformat_minor": 1
}
