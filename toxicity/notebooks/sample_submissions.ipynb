{
 "cells": [
  {
   "cell_type": "markdown",
   "metadata": {
    "deletable": true,
    "editable": true
   },
   "source": [
    "# Using our developed libraries\n",
    "\n",
    "In order to quickly use or inspect the developed libraries, as well as interactively visualize their results we can use\n",
    "those notebooks.\n",
    "\n",
    "**NOTE**: Please remember to clear all output before commiting any .ipynb file by doing: `Cell -> All Outputs -> Clear` "
   ]
  },
  {
   "cell_type": "code",
   "execution_count": null,
   "metadata": {
    "collapsed": false,
    "deletable": true,
    "editable": true
   },
   "outputs": [],
   "source": [
    "import pandas as pd\n",
    "import numpy as np\n",
    "\n",
    "import sys\n",
    "sys.path.append(\"../..\")\n",
    "\n",
    "from toxicity.predictor import Predictor\n",
    "from toxicity.linear_predictor import LogisticPredictor\n",
    "\n",
    "from common.nlp.preprocessing import *\n",
    "from toxicity.utils import *\n",
    "\n",
    "train = pd.read_csv(\"../data/train.csv\")\n",
    "test = pd.read_csv(\"../data/test.csv\")"
   ]
  },
  {
   "cell_type": "code",
   "execution_count": null,
   "metadata": {
    "collapsed": true,
    "deletable": true,
    "editable": true
   },
   "outputs": [],
   "source": [
    "# Extract the true labels needed for training\n",
    "train_ys = {tag: train[tag].values for tag in TAGS}\n",
    "\n",
    "# Extract the test set ids needed for submitting\n",
    "ids = test['id']"
   ]
  },
  {
   "cell_type": "markdown",
   "metadata": {
    "deletable": true,
    "editable": true
   },
   "source": [
    "## Lets test our preprocessing functions.\n",
    "\n",
    "The `tf_idf` transformation produces a sparse matrix representation."
   ]
  },
  {
   "cell_type": "code",
   "execution_count": null,
   "metadata": {
    "collapsed": true,
    "deletable": true,
    "editable": true
   },
   "outputs": [],
   "source": [
    "#train_x, test_x = get_sparse_matrix(train, test, save=True, load=False, data_dir=\"../data\")\n",
    "#to load the data set use\n",
    "train_x, test_x = get_sparse_matrix(load=True, data_dir=\"../data\")\n",
    "print(\"The tf_idf algorithm created {} features per sample\".format(train_x.shape[1]))"
   ]
  },
  {
   "cell_type": "markdown",
   "metadata": {
    "deletable": true,
    "editable": true
   },
   "source": [
    "## Using the processed dataset to train a linear predictor\n",
    "\n",
    "Lets check whether our predictor implementations can fit the processed datasets."
   ]
  },
  {
   "cell_type": "code",
   "execution_count": null,
   "metadata": {
    "collapsed": true,
    "deletable": true,
    "editable": true
   },
   "outputs": [],
   "source": [
    "lr_params = {\"C\": 4, \"dual\": True}\n",
    "predictor = LogisticPredictor(**lr_params)\n",
    "\n",
    "# We are currently supporting 3 evaluation methods, stratified CV, random CV and split. Lets check them.\n",
    "stratified_cv_loss = predictor.evaluate(train_x, train_ys, method='stratified_CV')\n",
    "cv_loss = predictor.evaluate(train_x, train_ys, method='CV')\n",
    "split_loss = predictor.evaluate(train_x, train_ys, method='split')\n",
    "\n",
    "print(\"CV Stratified CV log loss: {}\\nCV log loss: {}\\nSplit CV log loss: {}\".format(stratified_cv_loss, cv_loss, split_loss))"
   ]
  },
  {
   "cell_type": "code",
   "execution_count": null,
   "metadata": {
    "collapsed": true,
    "deletable": true,
    "editable": true
   },
   "outputs": [],
   "source": [
    "create_submission(predictor, train_x, train_ys, test_x, ids, '../submissions/first_attempt.csv')"
   ]
  }
 ],
 "metadata": {
  "kernelspec": {
   "display_name": "Python 2",
   "language": "python",
   "name": "python2"
  },
  "language_info": {
   "codemirror_mode": {
    "name": "ipython",
    "version": 2
   },
   "file_extension": ".py",
   "mimetype": "text/x-python",
   "name": "python",
   "nbconvert_exporter": "python",
   "pygments_lexer": "ipython2",
   "version": "2.7.12"
  }
 },
 "nbformat": 4,
 "nbformat_minor": 1
}
