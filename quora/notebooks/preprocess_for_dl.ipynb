{
 "cells": [
  {
   "cell_type": "markdown",
   "metadata": {},
   "source": [
    "# Preprocessing text for Deep Learning\n",
    "\n",
    "This notebooks performs basic preprocessing on the Quora datasets using the method(s) from `common.nlp.sequence_preprocessing`. The goal is to prepare the data for using sequence models. This means some information, such as punctuation and capitals, are removed. This information should be captured in another process if we want to use it."
   ]
  },
  {
   "cell_type": "code",
   "execution_count": 53,
   "metadata": {},
   "outputs": [],
   "source": [
    "import sys\n",
    "sys.path.append(\"../..\")\n",
    "import numpy as np\n",
    "import pandas as pd\n",
    "\n",
    "from common.nlp.sequence_preprocessing import WORD_MAP, preprocess_text_for_DL"
   ]
  },
  {
   "cell_type": "code",
   "execution_count": 54,
   "metadata": {
    "collapsed": true
   },
   "outputs": [],
   "source": [
    "# load data with right data types (this is important for the IDs in particular)\n",
    "dtypes = {\"qid\": str, \"question_text\": str, \"target\": int}\n",
    "train = pd.read_csv(\"../data/train.csv\", dtype=dtypes)\n",
    "test = pd.read_csv(\"../data/test.csv\", dtype=dtypes)"
   ]
  },
  {
   "cell_type": "markdown",
   "metadata": {},
   "source": [
    "### Preprocessing steps\n",
    "The `preprocess_text_for_DL` method performs the following steps:\n",
    "1. Convert text to lower case\n",
    "2. Replace shorthand writing (such as `won't`) to their full form (`will not`)\n",
    "3. Selectively remove, retain or ignore punctuations\n",
    "4. Replace numbers with # (eg: 1 by #, 23 by ##, 1993 by ####)\n",
    "\n",
    "The `common.nlp.sequence_preprocessing` module contains a variable `WORD_MAP` that specifies the mapping to use in step 2. This mapping is used by default, but can be overridden in the function call."
   ]
  },
  {
   "cell_type": "code",
   "execution_count": 55,
   "metadata": {},
   "outputs": [
    {
     "data": {
      "text/plain": [
       "{\"aren't\": 'are not',\n",
       " \"didn't\": 'did not',\n",
       " \"doesn't\": 'does not',\n",
       " \"don't\": 'do not',\n",
       " \"hadn't\": 'had not',\n",
       " \"hasn't\": 'has not',\n",
       " \"he's\": 'he is',\n",
       " \"how's\": 'how is',\n",
       " \"i'm\": 'i am',\n",
       " \"i've\": 'i have',\n",
       " \"isn't\": 'is not',\n",
       " \"it's\": 'it is',\n",
       " \"she's\": 'she is',\n",
       " \"that's\": 'that is',\n",
       " \"they're\": 'they are',\n",
       " \"they've\": 'they have',\n",
       " \"we're\": 'we are',\n",
       " \"we've\": 'we have',\n",
       " \"what's\": 'what is',\n",
       " \"won't\": 'will not',\n",
       " \"you've\": 'you have'}"
      ]
     },
     "execution_count": 55,
     "metadata": {},
     "output_type": "execute_result"
    }
   ],
   "source": [
    "WORD_MAP"
   ]
  },
  {
   "cell_type": "markdown",
   "metadata": {},
   "source": [
    "The punctuation that is removed is that from `string.punctuation`."
   ]
  },
  {
   "cell_type": "code",
   "execution_count": 56,
   "metadata": {},
   "outputs": [
    {
     "data": {
      "text/plain": [
       "'!\"#$%&\\'()*+,-./:;<=>?@[\\\\]^_`{|}~'"
      ]
     },
     "execution_count": 56,
     "metadata": {},
     "output_type": "execute_result"
    }
   ],
   "source": [
    "import string\n",
    "string.punctuation"
   ]
  },
  {
   "cell_type": "markdown",
   "metadata": {},
   "source": [
    "Preprocessing can be done for a single dataset or more datasets at once (all positional arguments are assumed to be datasets)."
   ]
  },
  {
   "cell_type": "code",
   "execution_count": 57,
   "metadata": {
    "scrolled": true
   },
   "outputs": [
    {
     "data": {
      "text/html": [
       "<div>\n",
       "<style scoped>\n",
       "    .dataframe tbody tr th:only-of-type {\n",
       "        vertical-align: middle;\n",
       "    }\n",
       "\n",
       "    .dataframe tbody tr th {\n",
       "        vertical-align: top;\n",
       "    }\n",
       "\n",
       "    .dataframe thead th {\n",
       "        text-align: right;\n",
       "    }\n",
       "</style>\n",
       "<table border=\"1\" class=\"dataframe\">\n",
       "  <thead>\n",
       "    <tr style=\"text-align: right;\">\n",
       "      <th></th>\n",
       "      <th>qid</th>\n",
       "      <th>question_text</th>\n",
       "      <th>target</th>\n",
       "    </tr>\n",
       "  </thead>\n",
       "  <tbody>\n",
       "    <tr>\n",
       "      <th>0</th>\n",
       "      <td>00002165364db923c7e6</td>\n",
       "      <td>how did quebec nationalists see their province...</td>\n",
       "      <td>0</td>\n",
       "    </tr>\n",
       "    <tr>\n",
       "      <th>1</th>\n",
       "      <td>000032939017120e6e44</td>\n",
       "      <td>do you have an adopted dog how would you encou...</td>\n",
       "      <td>0</td>\n",
       "    </tr>\n",
       "    <tr>\n",
       "      <th>2</th>\n",
       "      <td>0000412ca6e4628ce2cf</td>\n",
       "      <td>why does velocity affect time does velocity af...</td>\n",
       "      <td>0</td>\n",
       "    </tr>\n",
       "    <tr>\n",
       "      <th>3</th>\n",
       "      <td>000042bf85aa498cd78e</td>\n",
       "      <td>how did otto von guericke used the magdeburg h...</td>\n",
       "      <td>0</td>\n",
       "    </tr>\n",
       "    <tr>\n",
       "      <th>4</th>\n",
       "      <td>0000455dfa3e01eae3af</td>\n",
       "      <td>can i convert montra helicon d to a mountain b...</td>\n",
       "      <td>0</td>\n",
       "    </tr>\n",
       "  </tbody>\n",
       "</table>\n",
       "</div>"
      ],
      "text/plain": [
       "                    qid                                      question_text  \\\n",
       "0  00002165364db923c7e6  how did quebec nationalists see their province...   \n",
       "1  000032939017120e6e44  do you have an adopted dog how would you encou...   \n",
       "2  0000412ca6e4628ce2cf  why does velocity affect time does velocity af...   \n",
       "3  000042bf85aa498cd78e  how did otto von guericke used the magdeburg h...   \n",
       "4  0000455dfa3e01eae3af  can i convert montra helicon d to a mountain b...   \n",
       "\n",
       "   target  \n",
       "0       0  \n",
       "1       0  \n",
       "2       0  \n",
       "3       0  \n",
       "4       0  "
      ]
     },
     "execution_count": 57,
     "metadata": {},
     "output_type": "execute_result"
    }
   ],
   "source": [
    "# one dataset example\n",
    "just_train = preprocess_text_for_DL(train, text_col=\"question_text\", word_map=WORD_MAP, puncts_ignore='/-', puncts_retain='&')\n",
    "just_train.head()"
   ]
  },
  {
   "cell_type": "code",
   "execution_count": 58,
   "metadata": {},
   "outputs": [
    {
     "data": {
      "text/plain": [
       "'is it crazy if i wash or wipe my groceries off germs are everywhere'"
      ]
     },
     "execution_count": 58,
     "metadata": {},
     "output_type": "execute_result"
    }
   ],
   "source": [
    "just_train['question_text'][7]"
   ]
  },
  {
   "cell_type": "code",
   "execution_count": 59,
   "metadata": {},
   "outputs": [
    {
     "data": {
      "text/plain": [
       "((1306122, 3), (56370, 2))"
      ]
     },
     "execution_count": 59,
     "metadata": {},
     "output_type": "execute_result"
    }
   ],
   "source": [
    "# multiple dataset example\n",
    "cleaned_train, cleaned_test = preprocess_text_for_DL(train, test, puncts_ignore='/-', puncts_retain='&')\n",
    "cleaned_train.shape, cleaned_test.shape"
   ]
  },
  {
   "cell_type": "markdown",
   "metadata": {},
   "source": [
    "### Results\n",
    "Let's look at some (random) results."
   ]
  },
  {
   "cell_type": "code",
   "execution_count": 60,
   "metadata": {
    "collapsed": true
   },
   "outputs": [],
   "source": [
    "def sample_result(idx=None):\n",
    "    if idx is None:\n",
    "        idx = np.random.randint(0, len(cleaned_train))\n",
    "    print(idx)\n",
    "    print(train[\"question_text\"].iloc[idx])\n",
    "    print(cleaned_train[\"question_text\"].iloc[idx])"
   ]
  },
  {
   "cell_type": "code",
   "execution_count": 61,
   "metadata": {},
   "outputs": [
    {
     "name": "stdout",
     "output_type": "stream",
     "text": [
      "324883\n",
      "Why are there mezzanine levels in buildings?\n",
      "why are there mezzanine levels in buildings\n"
     ]
    }
   ],
   "source": [
    "# run this cell to see a random preprocessed instance and its original\n",
    "sample_result()"
   ]
  },
  {
   "cell_type": "markdown",
   "metadata": {},
   "source": [
    "#### Some examples we might need to deal with differently..."
   ]
  },
  {
   "cell_type": "code",
   "execution_count": 62,
   "metadata": {},
   "outputs": [
    {
     "name": "stdout",
     "output_type": "stream",
     "text": [
      "1287932\n",
      "Can Cloud Formation scripts be auto-generated from an AWS production runtime?\n",
      "can cloud formation scripts be auto generated from an aws production runtime\n"
     ]
    }
   ],
   "source": [
    "sample_result(1287932)"
   ]
  },
  {
   "cell_type": "markdown",
   "metadata": {},
   "source": [
    "Should hyphens be replaced with a space instead of removed? <b>(Handled!)</b>"
   ]
  },
  {
   "cell_type": "code",
   "execution_count": 63,
   "metadata": {},
   "outputs": [
    {
     "name": "stdout",
     "output_type": "stream",
     "text": [
      "378162\n",
      "What types of accommodation/ modifications to one's lifestyle would be necessary to live on venus?\n",
      "what types of accommodation modifications to ones lifestyle would be necessary to live on venus\n"
     ]
    }
   ],
   "source": [
    "sample_result(378162)"
   ]
  },
  {
   "cell_type": "markdown",
   "metadata": {},
   "source": [
    "With slashes, maybe we should just choose one of the options (e.g., the most common one in the corpus?) to maintain a logical sentence? </b>(Handled!)</b>"
   ]
  },
  {
   "cell_type": "code",
   "execution_count": 64,
   "metadata": {},
   "outputs": [
    {
     "name": "stdout",
     "output_type": "stream",
     "text": [
      "1012331\n",
      "What is your advice for a 27 y.o who got only 1$ in his pocket?\n",
      "what is your advice for a ## yo who got only 1 in his pocket\n"
     ]
    }
   ],
   "source": [
    "sample_result(1012331)"
   ]
  },
  {
   "cell_type": "markdown",
   "metadata": {},
   "source": [
    "Maybe we should replace $ with `dollar` and replace general abbreviations like y.o. (years old) with full words?\n",
    "\n",
    "Also, we probably have to replace digits."
   ]
  },
  {
   "cell_type": "code",
   "execution_count": 65,
   "metadata": {},
   "outputs": [
    {
     "name": "stdout",
     "output_type": "stream",
     "text": [
      "1068603\n",
      "Was Sheldon Cooper's personality inspired by Odo from Star Trek?\n",
      "was sheldon coopers personality inspired by odo from star trek\n"
     ]
    }
   ],
   "source": [
    "sample_result(1068603)"
   ]
  },
  {
   "cell_type": "markdown",
   "metadata": {},
   "source": [
    "What about `'s` that indicates possesion? By removing the apostrofe, the word turns into plural form or results in a misspelling of a name like here."
   ]
  },
  {
   "cell_type": "code",
   "execution_count": 66,
   "metadata": {
    "scrolled": true
   },
   "outputs": [
    {
     "name": "stdout",
     "output_type": "stream",
     "text": [
      "535806\n",
      "Does the drug “LSD” have a negative impact on cognitive functions?\n",
      "does the drug lsd have a negative impact on cognitive functions\n"
     ]
    }
   ],
   "source": [
    "sample_result(535806)"
   ]
  },
  {
   "cell_type": "markdown",
   "metadata": {},
   "source": [
    "Some weird characters are still there apparently.\n",
    "\n",
    "__For the biggest part it seems to work fine though.__"
   ]
  }
 ],
 "metadata": {
  "kernelspec": {
   "display_name": "Python [default]",
   "language": "python",
   "name": "python3"
  },
  "language_info": {
   "codemirror_mode": {
    "name": "ipython",
    "version": 3
   },
   "file_extension": ".py",
   "mimetype": "text/x-python",
   "name": "python",
   "nbconvert_exporter": "python",
   "pygments_lexer": "ipython3",
   "version": "3.6.3"
  }
 },
 "nbformat": 4,
 "nbformat_minor": 2
}
