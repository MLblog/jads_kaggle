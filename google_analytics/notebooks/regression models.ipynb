{
 "cells": [
  {
   "cell_type": "markdown",
   "metadata": {},
   "source": [
    "# Regression models\n",
    "\n",
    "In this notebook we show how the tuning library can be called for any regression predictor implementing our `fit` and `evaluate` methods.\n",
    "The tuning process can be differentiated based on a number of different settings, most importantly the set of parameters to be explored and the method of evaluation. The latter is by default set to train-test split for timing reasons (since GridSearch is a computationally expensive procedure). However more robust results are likely using `method='CV'`"
   ]
  },
  {
   "cell_type": "code",
   "execution_count": null,
   "metadata": {},
   "outputs": [],
   "source": [
    "import pandas as pd\n",
    "import numpy as np\n",
    "\n",
    "import sys\n",
    "sys.path.append('..')\n",
    "\n",
    "from regressors import RidgePredictor, LassoPredictor, RandomForestPredictor\n",
    "from tuning import tune, bayesian_optimization\n",
    "from preprocessing import keep_intersection_of_columns"
   ]
  },
  {
   "cell_type": "code",
   "execution_count": null,
   "metadata": {},
   "outputs": [],
   "source": [
    "# load datasets and define writhing path\n",
    "aggregated_train = pd.read_csv('../data/aggregated_train.csv', dtype={\"fullVisitorId\": str})\n",
    "aggregated_test = pd.read_csv('../data/aggregated_test.csv', dtype={\"fullVisitorId\": str})\n",
    "write_to = '../data/tuning.txt'"
   ]
  },
  {
   "cell_type": "code",
   "execution_count": null,
   "metadata": {},
   "outputs": [],
   "source": [
    "assert aggregated_test.shape[0] == 617242, (\"ABORT, ABORT! TEST DATA DOES NOT HAVE THE RIGHT SHAPE! Make sure your\"\n",
    "                                            \" data is created with the latest version of preprocessing.py.\")"
   ]
  },
  {
   "cell_type": "markdown",
   "metadata": {},
   "source": [
    "__Important:__ Drop the target variable and the visitor ID from the data."
   ]
  },
  {
   "cell_type": "code",
   "execution_count": null,
   "metadata": {},
   "outputs": [],
   "source": [
    "train_x, test_x = keep_intersection_of_columns(aggregated_train.reset_index(drop=True), aggregated_test.reset_index(drop=True))\n",
    "train_y = aggregated_train.reset_index(drop=True)[\"target_sum\"]\n",
    "train_x = train_x.fillna(0).drop([\"target_sum\", \"fullVisitorId\"], axis=1)\n",
    "test_ids = test_x[\"fullVisitorId\"]\n",
    "test_x = test_x.fillna(0).drop([\"target_sum\", \"fullVisitorId\"], axis=1)"
   ]
  },
  {
   "cell_type": "code",
   "execution_count": null,
   "metadata": {},
   "outputs": [],
   "source": [
    "param_grid = {\n",
    "    'max_depth': [3,4,5,6]\n",
    "}\n",
    "\n",
    "best_params, best_score = tune(RandomForestPredictor, train_x, train_y, param_grid, silent=False, persist=True, write_to=write_to, method = 'CV')\n",
    "print(\"Optimal parameters achieve RMSE = {}\".format(best_score))\n",
    "print(\"Parameters: {}\".format(best_params))"
   ]
  },
  {
   "cell_type": "code",
   "execution_count": null,
   "metadata": {},
   "outputs": [],
   "source": [
    "param_grid = {\n",
    "    'alpha': np.logspace(-10, -2, 15),\n",
    "    'normalize': [True], # only false if the data is not normalized!!\n",
    "}\n",
    "\n",
    "best_params, best_score = tune(RidgePredictor, train_x, train_y, param_grid, silent=False, persist=True, write_to=write_to, method = 'CV')\n",
    "print(\"Optimal parameters achieve RMSE = {}\".format(best_score))"
   ]
  },
  {
   "cell_type": "code",
   "execution_count": null,
   "metadata": {},
   "outputs": [],
   "source": [
    "param_grid = {\n",
    "    'alpha': np.logspace(-10, -2, 15),\n",
    "    'normalize': [True] # only false if the data is not normalized!!\n",
    "}\n",
    "\n",
    "best_params, best_score = tune(LassoPredictor, train_x, train_y, param_grid, silent=False, persist=False, write_to=write_to, method = 'CV')\n",
    "print(\"Optimal parameters achieve RMSE = {}\".format(best_score))"
   ]
  },
  {
   "cell_type": "markdown",
   "metadata": {},
   "source": [
    "### Make a submission"
   ]
  },
  {
   "cell_type": "code",
   "execution_count": null,
   "metadata": {},
   "outputs": [],
   "source": [
    "from submit import create_submission\n",
    "params = {\"max_depth\": 3}\n",
    "submission = create_submission(RandomForestPredictor, params, train_x, train_y, test_x, test_ids,\n",
    "                               save=True, path=\"../submissions/submission.csv\")\n",
    "submission.head()"
   ]
  }
 ],
 "metadata": {
  "kernelspec": {
   "display_name": "Python 3",
   "language": "python",
   "name": "python3"
  },
  "language_info": {
   "codemirror_mode": {
    "name": "ipython",
    "version": 3
   },
   "file_extension": ".py",
   "mimetype": "text/x-python",
   "name": "python",
   "nbconvert_exporter": "python",
   "pygments_lexer": "ipython3",
   "version": "3.6.4"
  }
 },
 "nbformat": 4,
 "nbformat_minor": 2
}
