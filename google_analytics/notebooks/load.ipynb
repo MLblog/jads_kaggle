{
 "cells": [
  {
   "cell_type": "code",
   "execution_count": 1,
   "metadata": {},
   "outputs": [],
   "source": [
    "import json\n",
    "import datetime\n",
    "import os\n",
    "import time\n",
    "import sys\n",
    "\n",
    "import pandas as pd\n",
    "import numpy as np\n",
    "from sklearn import preprocessing\n",
    "\n",
    "import matplotlib.pyplot as plt\n",
    "\n",
    "sys.path.append('..')\n",
    "from preprocessing import load, process, preprocess_and_save\n",
    "from aggregation import ohe_explicit"
   ]
  },
  {
   "cell_type": "markdown",
   "metadata": {},
   "source": [
    "# Loading the data\n",
    "\n",
    "The file *preprocessing.py* contains function to load the JSON data, convert to Pandas DataFrames, and perform basic preprocessing (e.g., delete columns that are constant). "
   ]
  },
  {
   "cell_type": "code",
   "execution_count": 2,
   "metadata": {},
   "outputs": [
    {
     "name": "stdout",
     "output_type": "stream",
     "text": [
      "Loaded file ../data/train.csv\n",
      "Shape is: (903653, 55)\n"
     ]
    }
   ],
   "source": [
    "train = load(\"../data/train.csv\")\n",
    "\n",
    "const_cols = [c for c in train.columns if train[c].nunique(dropna=False) == 1]\n",
    "train = train.drop(const_cols, axis=1)\n",
    "\n",
    "# Cast target\n",
    "train[\"transactionRevenue\"] = train[\"transactionRevenue\"].fillna(0).astype(float)"
   ]
  },
  {
   "cell_type": "markdown",
   "metadata": {},
   "source": [
    "## Hypothesis: certain profiles should be naively assigned a zero predicted revenue\n",
    "\n",
    "Since the new problem description includes much less information at prediction time (no session info) it might be beneficial to only focus on visitors with a high probability to spend - and assign a zero prediction to everyone else.\n",
    "\n",
    "**Which profile is improbable enough to make a purchase, that it makes sense to make that prediction naively?**\n",
    "\n",
    "We think that visitors with a single visit that did not lead to a purchase during the training period (prior to December of the testing year) have a very high probability of not buying anything during December and January either. Let's test this assumption.\n",
    "\n",
    "Note that for now we only have data from August 2016 until August 2017. Therefore we test the assumption based on data from August 2016 until November 2016 (x_train) for December 2016 and January 2017 (y_train). \n",
    "When we reveice the new data, we can test it again for the period August 2016 until Oktober 15 2017 (x_train) for December 2017 and December 2018 (y_train)"
   ]
  },
  {
   "cell_type": "code",
   "execution_count": 15,
   "metadata": {},
   "outputs": [],
   "source": [
    "x_train = train[(train[\"date\"] < '2016-12-01')]\n",
    "y_train = train[(train[\"date\"] >= '2016-12-01') & (train[\"date\"] < '2017-02-01')]"
   ]
  },
  {
   "cell_type": "code",
   "execution_count": 16,
   "metadata": {},
   "outputs": [
    {
     "name": "stdout",
     "output_type": "stream",
     "text": [
      "There are 263866 such visitors (out of 295432 found in our training set in total).\n"
     ]
    }
   ],
   "source": [
    "# Find people with a single visit during the training period\n",
    "count = x_train[[\"fullVisitorId\", \"transactionRevenue\"]].groupby(\"fullVisitorId\").count().reset_index()\n",
    "\n",
    "single_visit_ids = count[count[\"transactionRevenue\"] == 1][\"fullVisitorId\"]\n",
    "print(\"There are {} such visitors (out of {} found in our training set in total).\".format(len(single_visit_ids), len(count)))"
   ]
  },
  {
   "cell_type": "code",
   "execution_count": 17,
   "metadata": {},
   "outputs": [
    {
     "name": "stdout",
     "output_type": "stream",
     "text": [
      "Out of 263866 single visits, 1107 ended up in a purchase\n"
     ]
    }
   ],
   "source": [
    "# But maybe some of those guys actually bought something in that single visit.\n",
    "single_visits = x_train[x_train[\"fullVisitorId\"].isin(single_visit_ids)]\n",
    "num_purchases = len(single_visits[single_visits[\"transactionRevenue\"] > 0][\"transactionRevenue\"])\n",
    "print(\"Out of {} single visits, {} ended up in a purchase\".format(len(single_visit_ids), num_purchases))"
   ]
  },
  {
   "cell_type": "code",
   "execution_count": 18,
   "metadata": {},
   "outputs": [
    {
     "name": "stdout",
     "output_type": "stream",
     "text": [
      "We will therefore choose to ignore 262759 users\n"
     ]
    }
   ],
   "source": [
    "to_ignore = set(single_visit_ids) - set(single_visits[single_visits[\"transactionRevenue\"] > 0][\"fullVisitorId\"])\n",
    "print(\"We will therefore choose to ignore {} users\".format(len(to_ignore)))"
   ]
  },
  {
   "cell_type": "markdown",
   "metadata": {},
   "source": [
    "### Is this assumption justified?\n",
    "\n",
    "How reliable is this assumption? Are these people that we choose to ignore indeed buying nothing? Let's find out.\n",
    "\n",
    "We now predicted zero for all visitors that visited once from August to November and bought nothing. "
   ]
  },
  {
   "cell_type": "code",
   "execution_count": 21,
   "metadata": {},
   "outputs": [
    {
     "name": "stdout",
     "output_type": "stream",
     "text": [
      "We made 157 mistakes (0.06% of cases) leading to loss = 0.43796985063585375\n"
     ]
    }
   ],
   "source": [
    "import numpy as np\n",
    "\n",
    "# Create a df containing all visitor that are ignored and their actual target\n",
    "actual_targets = pd.DataFrame()\n",
    "actual_targets['ignored'] = list(to_ignore)\n",
    "y_train_grouped = y_train[[\"fullVisitorId\", \"transactionRevenue\"]].groupby(\"fullVisitorId\", as_index=False).sum()\n",
    "actual_targets = pd.merge(actual_targets, y_train_grouped, how='left', left_on='ignored', right_on='fullVisitorId')\n",
    "actual_targets['transactionRevenue'] = actual_targets['transactionRevenue'].fillna(0).astype(float)\n",
    "\n",
    "actual_target = actual_targets[\"transactionRevenue\"].apply(lambda revenue: np.log(revenue + 1))\n",
    "\n",
    "predicted_target = [0] * len(to_ignore)\n",
    "    \n",
    "loss = np.sqrt(np.mean((predicted_target - actual_target)**2))\n",
    "num_mistakes = sum(actual_target > 0)\n",
    "\n",
    "print(\"We made {} mistakes ({:.2f}% of cases) leading to loss = {}\".format(num_mistakes, 100*num_mistakes/len(actual_target) ,loss))"
   ]
  },
  {
   "cell_type": "code",
   "execution_count": 23,
   "metadata": {},
   "outputs": [
    {
     "data": {
      "text/plain": [
       "262759"
      ]
     },
     "execution_count": 23,
     "metadata": {},
     "output_type": "execute_result"
    }
   ],
   "source": [
    "len(actual_target)"
   ]
  },
  {
   "cell_type": "markdown",
   "metadata": {},
   "source": [
    "## Is this small enough?\n",
    "\n",
    "We now mispredicted 157 out of 262759 people and a loss of 0.4380 in the log space. \n",
    "\n",
    "However we do not yet know what a predictive model would be able to predict (without any session information of course). If a model would be able to do better, then its of course a bad idea to ignore these guys. If the predictive model fails, then its a good idea to ignore them.\n",
    "\n",
    "As a next step, we are checking the visit date in the x_train for the visitors for which we made a mistake. "
   ]
  },
  {
   "cell_type": "code",
   "execution_count": 75,
   "metadata": {},
   "outputs": [
    {
     "data": {
      "image/png": "[encoded data removed]",
      "text/plain": [
       "<matplotlib.figure.Figure at 0x1b3a123b908>"
      ]
     },
     "metadata": {},
     "output_type": "display_data"
    }
   ],
   "source": [
    "mistakes = actual_targets[actual_targets['transactionRevenue'] > 0]\n",
    "visit_date_mistakes = x_train[x_train['fullVisitorId'].isin(mistakes['ignored'])]['date']\n",
    "\n",
    "x = visit_date_mistakes.values\n",
    "plt.hist(x, normed=False, bins=5)\n",
    "plt.ylabel('Number of mistakes')\n",
    "plt.xlabel('Date of the visit in x_train')\n",
    "plt.rcParams[\"figure.figsize\"] = (10,4)\n",
    "plt.show()"
   ]
  },
  {
   "cell_type": "markdown",
   "metadata": {},
   "source": [
    "We can see that the visit dates of vistors for which we made a mistakes is highly skewed to the right. Which indicates that people that are visiting once and are not buying in the end of November 2016 are more likely to buy in December and January. \n",
    "Therefore it could be beneficial only remove people that visited once before a specific month and did not buy anything, instead of removing all people who visited once and did not buy anything. \n",
    "\n",
    "Suggestion:\n",
    "Can we also remove people from the dataset that never bought and did not visit the webshop a couple (to be defined) of months before y_train?\n",
    "\n",
    "**To be continued!**"
   ]
  },
  {
   "cell_type": "code",
   "execution_count": null,
   "metadata": {},
   "outputs": [],
   "source": [
    "# Run this if you need to recreate the initial dataset\n",
    "#preprocess_and_save(\"../data\", nrows_train=100000, nrows_test=10000)"
   ]
  },
  {
   "cell_type": "markdown",
   "metadata": {},
   "source": [
    "# Categoricals with many values\n",
    "\n",
    "There are a number of categorical features with many different values. This is an issue, specifically in the cases where those categorical features are not ordinal, and therefore label encoding them does not make sense. The only choice we are left with, is OHE. However naively performing this step would add hundreds of columns for each original categorical feature - in the end yielding potentially thousands of super sparse features. What I would like to explore, is whether there exist **specific values** with predictive value significantly higher than average. For example, looking at the particular country might be a weak predictor. However there might be 5 specific countries with a huge revenue deviation from the average (and enough samples to consider this discrepancy statistically significant)."
   ]
  },
  {
   "cell_type": "code",
   "execution_count": null,
   "metadata": {},
   "outputs": [],
   "source": [
    "train = load(\"../data/train.csv\")\n",
    "test = load(\"../data/test.csv\", nrows=10000)\n",
    "train, test = process(train, test)\n",
    "\n",
    "countries = train['country']\n",
    "print(\"There are {} different countries in our dataset\".format(len(countries.unique())))"
   ]
  },
  {
   "cell_type": "code",
   "execution_count": null,
   "metadata": {},
   "outputs": [],
   "source": [
    "aggregations = {'target':['mean', 'count']}\n",
    "\n",
    "countries = train[[\"country\", \"target\"]].groupby(\"country\", as_index=False).agg(aggregations)\n",
    "countries.columns = [\"country\", \"targetMean\", \"occurenceCount\"]\n",
    "\n",
    "# Let's focus only on countries with multiple records to preserve some statistical significance\n",
    "keep = 10\n",
    "usual_countries = countries.sort_values(\"occurenceCount\", ascending=False).head(keep)\n",
    "\n",
    "global_average = train[\"target\"].mean()\n",
    "usual_countries[\"deviation\"] = usual_countries[\"targetMean\"] - global_average\n",
    "usual_countries.plot.bar(x=\"country\", y=\"deviation\")"
   ]
  },
  {
   "cell_type": "markdown",
   "metadata": {},
   "source": [
    "# USA seems quite different\n",
    "\n",
    "What we can find here is that USA is very different to any other country with significant sample count. What we can do with this information? We instead of using OHE to code every country in our dataset, we can probably get away with a single boolean column: **is this record coming from the USA?**"
   ]
  },
  {
   "cell_type": "code",
   "execution_count": null,
   "metadata": {},
   "outputs": [],
   "source": [
    "cities = train['city']\n",
    "print(\"There are {} different cities in our dataset\".format(len(cities.unique())))"
   ]
  },
  {
   "cell_type": "code",
   "execution_count": null,
   "metadata": {},
   "outputs": [],
   "source": [
    "aggregations = {'target':['mean', 'count']}\n",
    "\n",
    "cities = train[[\"city\", \"target\"]].groupby(\"city\", as_index=False).agg(aggregations)\n",
    "cities.columns = [\"city\", \"targetMean\", \"occurenceCount\"]\n",
    "\n",
    "# Let's focus only on countries with multiple records to preserve some statistical significance\n",
    "keep = 10\n",
    "usual_cities = cities.sort_values(\"occurenceCount\", ascending=False).head(keep)\n",
    "\n",
    "global_average = train[\"target\"].mean()\n",
    "usual_cities[\"deviation\"] = usual_cities[\"targetMean\"] - global_average\n",
    "usual_cities.plot.bar(x=\"city\", y=\"deviation\")"
   ]
  },
  {
   "cell_type": "markdown",
   "metadata": {},
   "source": [
    "# What about the cities?\n",
    "\n",
    "Here we can see some pretty strong deviations. However we need to note that the top ones come from US cities, so part of the variance these cities explain, is already included in the information that they belong to the USA. However their deviation is considerably higher than that of USA alone (1.0 vs 0.3) so including those columns might still be beneficial. The deviation we see is actually very distorted because of the USA outlier. Perhaps it would make more sense to only focus on the deviation from the average of non-USA cities."
   ]
  },
  {
   "cell_type": "code",
   "execution_count": null,
   "metadata": {},
   "outputs": [],
   "source": [
    "train_not_us = train[train['country'] != \"United States\"]\n",
    "train_us = train[train['country'] == \"United States\"]\n",
    "\n",
    "outside_us_avg = train_not_us['target'].mean()\n",
    "us_avg = train_us[\"target\"].mean()\n",
    "\n",
    "print(\"Average in US: {}\\nAverage outside US: {}\".format(us_avg, outside_us_avg))"
   ]
  },
  {
   "cell_type": "markdown",
   "metadata": {},
   "source": [
    "**Let's then repeat out analysis but this time separatly for the pieces of data**"
   ]
  },
  {
   "cell_type": "code",
   "execution_count": null,
   "metadata": {},
   "outputs": [],
   "source": [
    "aggregations = {'target':['mean', 'count']}\n",
    "\n",
    "# US case\n",
    "def city_deviation(df, title=\"Deviation per city\"):\n",
    "    cities = df[[\"city\", \"target\"]].groupby(\"city\", as_index=False).agg(aggregations)\n",
    "    cities.columns = [\"city\", \"targetMean\", \"occurenceCount\"]\n",
    "\n",
    "    # Let's focus only on countries with multiple records to preserve some statistical significance\n",
    "    keep = 10\n",
    "    usual_cities = cities.sort_values(\"occurenceCount\", ascending=False).head(keep)\n",
    "\n",
    "    global_average = df[\"target\"].mean()\n",
    "    usual_cities[\"deviation\"] = usual_cities[\"targetMean\"] - global_average\n",
    "    ax = usual_cities.plot.bar(x=\"city\", y=\"deviation\", title=title, rot=45, legend=False)\n",
    "    ax.set_xlabel(\"City\")\n",
    "    ax.set_ylabel(\"Deviation\")\n",
    "    \n",
    "city_deviation(train_us, title=\"Deviation from the mean - US\")\n",
    "city_deviation(train_not_us, title=\"Deviation from the mean - Rest of the world\")"
   ]
  },
  {
   "cell_type": "markdown",
   "metadata": {},
   "source": [
    "## Much better!\n",
    "\n",
    "Now we can clearly see what information should be included besides the country (or to be exact, whether or not the country is the US). For example it makes no sense to include Los Angeles or Mountain View even though they deviate from the global average, because all this deviation is explained by the fact that they exist in the US! Instead we should include Chicago, New York, Austin, Seattle and maybe Palo Alto. And as we can see the deviations are much smaller outside the US, with the exception of Toronto which MUST be included.\n",
    "\n",
    "### Food for thought\n",
    "It makes sense that deviations outside the US are smaller because the target itself is considerable lower. Perhaps we should look at relative deviations instead?"
   ]
  },
  {
   "cell_type": "code",
   "execution_count": null,
   "metadata": {},
   "outputs": [],
   "source": [
    "check = ohe_explicit(train)\n",
    "check.head()  "
   ]
  },
  {
   "cell_type": "code",
   "execution_count": null,
   "metadata": {},
   "outputs": [],
   "source": []
  }
 ],
 "metadata": {
  "kernelspec": {
   "display_name": "Python 3",
   "language": "python",
   "name": "python3"
  },
  "language_info": {
   "codemirror_mode": {
    "name": "ipython",
    "version": 3
   },
   "file_extension": ".py",
   "mimetype": "text/x-python",
   "name": "python",
   "nbconvert_exporter": "python",
   "pygments_lexer": "ipython3",
   "version": "3.6.4"
  }
 },
 "nbformat": 4,
 "nbformat_minor": 2
}
